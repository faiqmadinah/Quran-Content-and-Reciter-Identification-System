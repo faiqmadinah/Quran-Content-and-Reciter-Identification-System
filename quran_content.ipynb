{
 "cells": [
  {
   "cell_type": "code",
   "execution_count": 2,
   "metadata": {},
   "outputs": [],
   "source": [
    "import pandas as pd\n",
    "import numpy as np\n",
    "import tensorflow as tf\n",
    "from sklearn.model_selection import train_test_split\n",
    "from sklearn.preprocessing import LabelEncoder\n",
    "from tensorflow.keras.preprocessing.text import Tokenizer\n",
    "from tensorflow.keras.utils import to_categorical"
   ]
  },
  {
   "cell_type": "code",
   "execution_count": 3,
   "metadata": {},
   "outputs": [
    {
     "name": "stdout",
     "output_type": "stream",
     "text": [
      "      juzno  surahno                                qurantext\n",
      "6231     30      114                          مَلِكِ النَّاسِ\n",
      "6232     30      114                         إِلَٰهِ النَّاسِ\n",
      "6233     30      114      مِنْ شَرِّ الْوَسْوَاسِ الْخَنَّاسِ\n",
      "6234     30      114  الَّذِي يُوَسْوِسُ فِي صُدُورِ النَّاسِ\n",
      "6235     30      114               مِنَ الْجِنَّةِ وَالنَّاسِ\n"
     ]
    }
   ],
   "source": [
    "# Load the dataset\n",
    "df = pd.read_excel('dataset/quran.xlsx',engine='openpyxl')\n",
    "\n",
    "\n",
    "# Drop rows with missing values\n",
    "df.dropna(inplace=True)\n",
    "\n",
    "# Checking for duplicates and removing them\n",
    "df.drop_duplicates(inplace=True)\n",
    "\n",
    "# Ensure the columns are correctly named\n",
    "df.columns = ['juzno', 'surahno', 'qurantext']\n",
    "\n",
    "# Check the cleaned data\n",
    "print(df.tail())"
   ]
  },
  {
   "cell_type": "code",
   "execution_count": 4,
   "metadata": {},
   "outputs": [
    {
     "name": "stdout",
     "output_type": "stream",
     "text": [
      "(6144, 145)\n"
     ]
    }
   ],
   "source": [
    "# Initialize Tokenizer\n",
    "tokenizer = Tokenizer()\n",
    "tokenizer.fit_on_texts(df['qurantext'])\n",
    "\n",
    "# Convert text to sequences\n",
    "X = tokenizer.texts_to_sequences(df['qurantext'])\n",
    "\n",
    "# Pad sequences to ensure uniform length\n",
    "X = tf.keras.preprocessing.sequence.pad_sequences(X)\n",
    "\n",
    "# Check the shape of X\n",
    "print(X.shape)"
   ]
  },
  {
   "cell_type": "code",
   "execution_count": 6,
   "metadata": {},
   "outputs": [
    {
     "name": "stdout",
     "output_type": "stream",
     "text": [
      "(6144, 30) (6144, 114)\n"
     ]
    }
   ],
   "source": [
    "# Initialize LabelEncoder\n",
    "label_encoder_juzno = LabelEncoder()\n",
    "label_encoder_surahno = LabelEncoder()\n",
    "\n",
    "# Convert juzno and surahno to numerical values\n",
    "y_juzno = label_encoder_juzno.fit_transform(df['juzno'])\n",
    "y_surahno = label_encoder_surahno.fit_transform(df['surahno'])\n",
    "\n",
    "# One-hot encoding the target variables\n",
    "y_juzno = to_categorical(y_juzno)\n",
    "y_surahno = to_categorical(y_surahno)\n",
    "\n",
    "print(y_juzno.shape, y_surahno.shape)"
   ]
  },
  {
   "cell_type": "code",
   "execution_count": 7,
   "metadata": {},
   "outputs": [],
   "source": [
    "X_train, X_test, y_train_juzno, y_test_juzno, y_train_surahno, y_test_surahno = train_test_split(\n",
    "    X, y_juzno, y_surahno, test_size=0.2, random_state=42\n",
    ")"
   ]
  },
  {
   "cell_type": "code",
   "execution_count": 8,
   "metadata": {},
   "outputs": [
    {
     "data": {
      "text/html": [
       "<pre style=\"white-space:pre;overflow-x:auto;line-height:normal;font-family:Menlo,'DejaVu Sans Mono',consolas,'Courier New',monospace\"><span style=\"font-weight: bold\">Model: \"functional\"</span>\n",
       "</pre>\n"
      ],
      "text/plain": [
       "\u001b[1mModel: \"functional\"\u001b[0m\n"
      ]
     },
     "metadata": {},
     "output_type": "display_data"
    },
    {
     "data": {
      "text/html": [
       "<pre style=\"white-space:pre;overflow-x:auto;line-height:normal;font-family:Menlo,'DejaVu Sans Mono',consolas,'Courier New',monospace\">┏━━━━━━━━━━━━━━━━━━━━━┳━━━━━━━━━━━━━━━━━━━┳━━━━━━━━━━━━┳━━━━━━━━━━━━━━━━━━━┓\n",
       "┃<span style=\"font-weight: bold\"> Layer (type)        </span>┃<span style=\"font-weight: bold\"> Output Shape      </span>┃<span style=\"font-weight: bold\">    Param # </span>┃<span style=\"font-weight: bold\"> Connected to      </span>┃\n",
       "┡━━━━━━━━━━━━━━━━━━━━━╇━━━━━━━━━━━━━━━━━━━╇━━━━━━━━━━━━╇━━━━━━━━━━━━━━━━━━━┩\n",
       "│ input_layer         │ (<span style=\"color: #00d7ff; text-decoration-color: #00d7ff\">None</span>, <span style=\"color: #00af00; text-decoration-color: #00af00\">145</span>)       │          <span style=\"color: #00af00; text-decoration-color: #00af00\">0</span> │ -                 │\n",
       "│ (<span style=\"color: #0087ff; text-decoration-color: #0087ff\">InputLayer</span>)        │                   │            │                   │\n",
       "├─────────────────────┼───────────────────┼────────────┼───────────────────┤\n",
       "│ embedding           │ (<span style=\"color: #00d7ff; text-decoration-color: #00d7ff\">None</span>, <span style=\"color: #00af00; text-decoration-color: #00af00\">145</span>, <span style=\"color: #00af00; text-decoration-color: #00af00\">128</span>)  │  <span style=\"color: #00af00; text-decoration-color: #00af00\">2,256,384</span> │ input_layer[<span style=\"color: #00af00; text-decoration-color: #00af00\">0</span>][<span style=\"color: #00af00; text-decoration-color: #00af00\">0</span>] │\n",
       "│ (<span style=\"color: #0087ff; text-decoration-color: #0087ff\">Embedding</span>)         │                   │            │                   │\n",
       "├─────────────────────┼───────────────────┼────────────┼───────────────────┤\n",
       "│ lstm (<span style=\"color: #0087ff; text-decoration-color: #0087ff\">LSTM</span>)         │ (<span style=\"color: #00d7ff; text-decoration-color: #00d7ff\">None</span>, <span style=\"color: #00af00; text-decoration-color: #00af00\">145</span>, <span style=\"color: #00af00; text-decoration-color: #00af00\">128</span>)  │    <span style=\"color: #00af00; text-decoration-color: #00af00\">131,584</span> │ embedding[<span style=\"color: #00af00; text-decoration-color: #00af00\">0</span>][<span style=\"color: #00af00; text-decoration-color: #00af00\">0</span>]   │\n",
       "├─────────────────────┼───────────────────┼────────────┼───────────────────┤\n",
       "│ lstm_1 (<span style=\"color: #0087ff; text-decoration-color: #0087ff\">LSTM</span>)       │ (<span style=\"color: #00d7ff; text-decoration-color: #00d7ff\">None</span>, <span style=\"color: #00af00; text-decoration-color: #00af00\">64</span>)        │     <span style=\"color: #00af00; text-decoration-color: #00af00\">49,408</span> │ lstm[<span style=\"color: #00af00; text-decoration-color: #00af00\">0</span>][<span style=\"color: #00af00; text-decoration-color: #00af00\">0</span>]        │\n",
       "├─────────────────────┼───────────────────┼────────────┼───────────────────┤\n",
       "│ juzno_output        │ (<span style=\"color: #00d7ff; text-decoration-color: #00d7ff\">None</span>, <span style=\"color: #00af00; text-decoration-color: #00af00\">30</span>)        │      <span style=\"color: #00af00; text-decoration-color: #00af00\">1,950</span> │ lstm_1[<span style=\"color: #00af00; text-decoration-color: #00af00\">0</span>][<span style=\"color: #00af00; text-decoration-color: #00af00\">0</span>]      │\n",
       "│ (<span style=\"color: #0087ff; text-decoration-color: #0087ff\">Dense</span>)             │                   │            │                   │\n",
       "├─────────────────────┼───────────────────┼────────────┼───────────────────┤\n",
       "│ surahno_output      │ (<span style=\"color: #00d7ff; text-decoration-color: #00d7ff\">None</span>, <span style=\"color: #00af00; text-decoration-color: #00af00\">114</span>)       │      <span style=\"color: #00af00; text-decoration-color: #00af00\">7,410</span> │ lstm_1[<span style=\"color: #00af00; text-decoration-color: #00af00\">0</span>][<span style=\"color: #00af00; text-decoration-color: #00af00\">0</span>]      │\n",
       "│ (<span style=\"color: #0087ff; text-decoration-color: #0087ff\">Dense</span>)             │                   │            │                   │\n",
       "└─────────────────────┴───────────────────┴────────────┴───────────────────┘\n",
       "</pre>\n"
      ],
      "text/plain": [
       "┏━━━━━━━━━━━━━━━━━━━━━┳━━━━━━━━━━━━━━━━━━━┳━━━━━━━━━━━━┳━━━━━━━━━━━━━━━━━━━┓\n",
       "┃\u001b[1m \u001b[0m\u001b[1mLayer (type)       \u001b[0m\u001b[1m \u001b[0m┃\u001b[1m \u001b[0m\u001b[1mOutput Shape     \u001b[0m\u001b[1m \u001b[0m┃\u001b[1m \u001b[0m\u001b[1m   Param #\u001b[0m\u001b[1m \u001b[0m┃\u001b[1m \u001b[0m\u001b[1mConnected to     \u001b[0m\u001b[1m \u001b[0m┃\n",
       "┡━━━━━━━━━━━━━━━━━━━━━╇━━━━━━━━━━━━━━━━━━━╇━━━━━━━━━━━━╇━━━━━━━━━━━━━━━━━━━┩\n",
       "│ input_layer         │ (\u001b[38;5;45mNone\u001b[0m, \u001b[38;5;34m145\u001b[0m)       │          \u001b[38;5;34m0\u001b[0m │ -                 │\n",
       "│ (\u001b[38;5;33mInputLayer\u001b[0m)        │                   │            │                   │\n",
       "├─────────────────────┼───────────────────┼────────────┼───────────────────┤\n",
       "│ embedding           │ (\u001b[38;5;45mNone\u001b[0m, \u001b[38;5;34m145\u001b[0m, \u001b[38;5;34m128\u001b[0m)  │  \u001b[38;5;34m2,256,384\u001b[0m │ input_layer[\u001b[38;5;34m0\u001b[0m][\u001b[38;5;34m0\u001b[0m] │\n",
       "│ (\u001b[38;5;33mEmbedding\u001b[0m)         │                   │            │                   │\n",
       "├─────────────────────┼───────────────────┼────────────┼───────────────────┤\n",
       "│ lstm (\u001b[38;5;33mLSTM\u001b[0m)         │ (\u001b[38;5;45mNone\u001b[0m, \u001b[38;5;34m145\u001b[0m, \u001b[38;5;34m128\u001b[0m)  │    \u001b[38;5;34m131,584\u001b[0m │ embedding[\u001b[38;5;34m0\u001b[0m][\u001b[38;5;34m0\u001b[0m]   │\n",
       "├─────────────────────┼───────────────────┼────────────┼───────────────────┤\n",
       "│ lstm_1 (\u001b[38;5;33mLSTM\u001b[0m)       │ (\u001b[38;5;45mNone\u001b[0m, \u001b[38;5;34m64\u001b[0m)        │     \u001b[38;5;34m49,408\u001b[0m │ lstm[\u001b[38;5;34m0\u001b[0m][\u001b[38;5;34m0\u001b[0m]        │\n",
       "├─────────────────────┼───────────────────┼────────────┼───────────────────┤\n",
       "│ juzno_output        │ (\u001b[38;5;45mNone\u001b[0m, \u001b[38;5;34m30\u001b[0m)        │      \u001b[38;5;34m1,950\u001b[0m │ lstm_1[\u001b[38;5;34m0\u001b[0m][\u001b[38;5;34m0\u001b[0m]      │\n",
       "│ (\u001b[38;5;33mDense\u001b[0m)             │                   │            │                   │\n",
       "├─────────────────────┼───────────────────┼────────────┼───────────────────┤\n",
       "│ surahno_output      │ (\u001b[38;5;45mNone\u001b[0m, \u001b[38;5;34m114\u001b[0m)       │      \u001b[38;5;34m7,410\u001b[0m │ lstm_1[\u001b[38;5;34m0\u001b[0m][\u001b[38;5;34m0\u001b[0m]      │\n",
       "│ (\u001b[38;5;33mDense\u001b[0m)             │                   │            │                   │\n",
       "└─────────────────────┴───────────────────┴────────────┴───────────────────┘\n"
      ]
     },
     "metadata": {},
     "output_type": "display_data"
    },
    {
     "data": {
      "text/html": [
       "<pre style=\"white-space:pre;overflow-x:auto;line-height:normal;font-family:Menlo,'DejaVu Sans Mono',consolas,'Courier New',monospace\"><span style=\"font-weight: bold\"> Total params: </span><span style=\"color: #00af00; text-decoration-color: #00af00\">2,446,736</span> (9.33 MB)\n",
       "</pre>\n"
      ],
      "text/plain": [
       "\u001b[1m Total params: \u001b[0m\u001b[38;5;34m2,446,736\u001b[0m (9.33 MB)\n"
      ]
     },
     "metadata": {},
     "output_type": "display_data"
    },
    {
     "data": {
      "text/html": [
       "<pre style=\"white-space:pre;overflow-x:auto;line-height:normal;font-family:Menlo,'DejaVu Sans Mono',consolas,'Courier New',monospace\"><span style=\"font-weight: bold\"> Trainable params: </span><span style=\"color: #00af00; text-decoration-color: #00af00\">2,446,736</span> (9.33 MB)\n",
       "</pre>\n"
      ],
      "text/plain": [
       "\u001b[1m Trainable params: \u001b[0m\u001b[38;5;34m2,446,736\u001b[0m (9.33 MB)\n"
      ]
     },
     "metadata": {},
     "output_type": "display_data"
    },
    {
     "data": {
      "text/html": [
       "<pre style=\"white-space:pre;overflow-x:auto;line-height:normal;font-family:Menlo,'DejaVu Sans Mono',consolas,'Courier New',monospace\"><span style=\"font-weight: bold\"> Non-trainable params: </span><span style=\"color: #00af00; text-decoration-color: #00af00\">0</span> (0.00 B)\n",
       "</pre>\n"
      ],
      "text/plain": [
       "\u001b[1m Non-trainable params: \u001b[0m\u001b[38;5;34m0\u001b[0m (0.00 B)\n"
      ]
     },
     "metadata": {},
     "output_type": "display_data"
    }
   ],
   "source": [
    "# Define a functional model for multiple outputs\n",
    "input_layer = tf.keras.layers.Input(shape=(X.shape[1],))\n",
    "embedding = tf.keras.layers.Embedding(input_dim=len(tokenizer.word_index) + 1, output_dim=128)(input_layer)\n",
    "lstm = tf.keras.layers.LSTM(128, return_sequences=True)(embedding)\n",
    "lstm = tf.keras.layers.LSTM(64)(lstm)\n",
    "\n",
    "# Define two separate output layers\n",
    "juzno_output = tf.keras.layers.Dense(y_juzno.shape[1], activation='softmax', name='juzno_output')(lstm)\n",
    "surahno_output = tf.keras.layers.Dense(y_surahno.shape[1], activation='softmax', name='surahno_output')(lstm)\n",
    "\n",
    "# Create the model\n",
    "model = tf.keras.Model(inputs=input_layer, outputs=[juzno_output, surahno_output])\n",
    "# Compile the model\n",
    "model.compile(optimizer='adam',\n",
    "              loss={'juzno_output': 'categorical_crossentropy', 'surahno_output': 'categorical_crossentropy'},\n",
    "              metrics={\n",
    "                  'juzno_output':'accuracy',\n",
    "                  'surahno_output':'accuracy'\n",
    "              } )\n",
    "\n",
    "# Check model summary\n",
    "model.summary()"
   ]
  },
  {
   "cell_type": "code",
   "execution_count": null,
   "metadata": {},
   "outputs": [
    {
     "name": "stdout",
     "output_type": "stream",
     "text": [
      "Epoch 1/22\n",
      "\u001b[1m384/384\u001b[0m \u001b[32m━━━━━━━━━━━━━━━━━━━━\u001b[0m\u001b[37m\u001b[0m \u001b[1m65s\u001b[0m 159ms/step - juzno_output_accuracy: 0.1040 - juzno_output_loss: 3.1377 - loss: 7.5073 - surahno_output_accuracy: 0.0511 - surahno_output_loss: 4.3696 - val_juzno_output_accuracy: 0.0000e+00 - val_juzno_output_loss: 3.1977 - val_loss: 7.1160 - val_surahno_output_accuracy: 0.0000e+00 - val_surahno_output_loss: 3.9182\n",
      "Epoch 2/22\n",
      "\u001b[1m384/384\u001b[0m \u001b[32m━━━━━━━━━━━━━━━━━━━━\u001b[0m\u001b[37m\u001b[0m \u001b[1m65s\u001b[0m 169ms/step - juzno_output_accuracy: 0.1442 - juzno_output_loss: 2.8303 - loss: 6.5913 - surahno_output_accuracy: 0.0857 - surahno_output_loss: 3.7610 - val_juzno_output_accuracy: 0.2000 - val_juzno_output_loss: 3.1049 - val_loss: 6.6210 - val_surahno_output_accuracy: 0.1000 - val_surahno_output_loss: 3.5161\n",
      "Epoch 3/22\n",
      "\u001b[1m384/384\u001b[0m \u001b[32m━━━━━━━━━━━━━━━━━━━━\u001b[0m\u001b[37m\u001b[0m \u001b[1m67s\u001b[0m 174ms/step - juzno_output_accuracy: 0.2137 - juzno_output_loss: 2.5227 - loss: 5.9550 - surahno_output_accuracy: 0.1138 - surahno_output_loss: 3.4323 - val_juzno_output_accuracy: 0.1000 - val_juzno_output_loss: 3.0859 - val_loss: 6.5500 - val_surahno_output_accuracy: 0.1000 - val_surahno_output_loss: 3.4641\n",
      "Epoch 4/22\n",
      "\u001b[1m384/384\u001b[0m \u001b[32m━━━━━━━━━━━━━━━━━━━━\u001b[0m\u001b[37m\u001b[0m \u001b[1m72s\u001b[0m 186ms/step - juzno_output_accuracy: 0.2867 - juzno_output_loss: 2.2511 - loss: 5.3486 - surahno_output_accuracy: 0.1782 - surahno_output_loss: 3.0975 - val_juzno_output_accuracy: 0.2000 - val_juzno_output_loss: 3.2288 - val_loss: 6.6377 - val_surahno_output_accuracy: 0.2000 - val_surahno_output_loss: 3.4089\n",
      "Epoch 5/22\n",
      "\u001b[1m384/384\u001b[0m \u001b[32m━━━━━━━━━━━━━━━━━━━━\u001b[0m\u001b[37m\u001b[0m \u001b[1m72s\u001b[0m 188ms/step - juzno_output_accuracy: 0.3658 - juzno_output_loss: 1.9930 - loss: 4.7901 - surahno_output_accuracy: 0.2244 - surahno_output_loss: 2.7971 - val_juzno_output_accuracy: 0.1000 - val_juzno_output_loss: 3.5121 - val_loss: 6.8698 - val_surahno_output_accuracy: 0.2000 - val_surahno_output_loss: 3.3577\n",
      "Epoch 6/22\n",
      "\u001b[1m384/384\u001b[0m \u001b[32m━━━━━━━━━━━━━━━━━━━━\u001b[0m\u001b[37m\u001b[0m \u001b[1m70s\u001b[0m 183ms/step - juzno_output_accuracy: 0.4483 - juzno_output_loss: 1.7038 - loss: 4.1772 - surahno_output_accuracy: 0.2945 - surahno_output_loss: 2.4734 - val_juzno_output_accuracy: 0.2000 - val_juzno_output_loss: 3.3777 - val_loss: 6.5724 - val_surahno_output_accuracy: 0.2000 - val_surahno_output_loss: 3.1948\n",
      "Epoch 7/22\n",
      "\u001b[1m384/384\u001b[0m \u001b[32m━━━━━━━━━━━━━━━━━━━━\u001b[0m\u001b[37m\u001b[0m \u001b[1m85s\u001b[0m 220ms/step - juzno_output_accuracy: 0.5668 - juzno_output_loss: 1.4071 - loss: 3.6476 - surahno_output_accuracy: 0.3528 - surahno_output_loss: 2.2405 - val_juzno_output_accuracy: 0.2000 - val_juzno_output_loss: 4.0007 - val_loss: 7.8698 - val_surahno_output_accuracy: 0.2000 - val_surahno_output_loss: 3.8691\n",
      "Epoch 8/22\n",
      "\u001b[1m384/384\u001b[0m \u001b[32m━━━━━━━━━━━━━━━━━━━━\u001b[0m\u001b[37m\u001b[0m \u001b[1m139s\u001b[0m 360ms/step - juzno_output_accuracy: 0.6467 - juzno_output_loss: 1.1723 - loss: 3.0997 - surahno_output_accuracy: 0.4447 - surahno_output_loss: 1.9274 - val_juzno_output_accuracy: 0.1000 - val_juzno_output_loss: 4.1235 - val_loss: 8.1228 - val_surahno_output_accuracy: 0.2000 - val_surahno_output_loss: 3.9993\n",
      "Epoch 9/22\n",
      "\u001b[1m384/384\u001b[0m \u001b[32m━━━━━━━━━━━━━━━━━━━━\u001b[0m\u001b[37m\u001b[0m \u001b[1m139s\u001b[0m 361ms/step - juzno_output_accuracy: 0.7250 - juzno_output_loss: 0.9142 - loss: 2.5580 - surahno_output_accuracy: 0.5357 - surahno_output_loss: 1.6437 - val_juzno_output_accuracy: 0.2000 - val_juzno_output_loss: 3.9676 - val_loss: 7.8115 - val_surahno_output_accuracy: 0.2000 - val_surahno_output_loss: 3.8439\n",
      "Epoch 10/22\n",
      "\u001b[1m384/384\u001b[0m \u001b[32m━━━━━━━━━━━━━━━━━━━━\u001b[0m\u001b[37m\u001b[0m \u001b[1m137s\u001b[0m 357ms/step - juzno_output_accuracy: 0.8019 - juzno_output_loss: 0.7309 - loss: 2.1029 - surahno_output_accuracy: 0.6387 - surahno_output_loss: 1.3719 - val_juzno_output_accuracy: 0.2000 - val_juzno_output_loss: 4.2384 - val_loss: 8.3742 - val_surahno_output_accuracy: 0.2000 - val_surahno_output_loss: 4.1359\n",
      "Epoch 11/22\n",
      "\u001b[1m384/384\u001b[0m \u001b[32m━━━━━━━━━━━━━━━━━━━━\u001b[0m\u001b[37m\u001b[0m \u001b[1m141s\u001b[0m 366ms/step - juzno_output_accuracy: 0.8419 - juzno_output_loss: 0.5740 - loss: 1.7186 - surahno_output_accuracy: 0.7036 - surahno_output_loss: 1.1445 - val_juzno_output_accuracy: 0.2000 - val_juzno_output_loss: 4.5661 - val_loss: 9.2358 - val_surahno_output_accuracy: 0.3000 - val_surahno_output_loss: 4.6696\n",
      "Epoch 12/22\n",
      "\u001b[1m384/384\u001b[0m \u001b[32m━━━━━━━━━━━━━━━━━━━━\u001b[0m\u001b[37m\u001b[0m \u001b[1m137s\u001b[0m 356ms/step - juzno_output_accuracy: 0.8907 - juzno_output_loss: 0.4331 - loss: 1.3973 - surahno_output_accuracy: 0.7567 - surahno_output_loss: 0.9642 - val_juzno_output_accuracy: 0.1000 - val_juzno_output_loss: 4.3837 - val_loss: 8.6401 - val_surahno_output_accuracy: 0.3000 - val_surahno_output_loss: 4.2564\n",
      "Epoch 13/22\n",
      "\u001b[1m384/384\u001b[0m \u001b[32m━━━━━━━━━━━━━━━━━━━━\u001b[0m\u001b[37m\u001b[0m \u001b[1m137s\u001b[0m 357ms/step - juzno_output_accuracy: 0.9170 - juzno_output_loss: 0.3537 - loss: 1.1532 - surahno_output_accuracy: 0.8179 - surahno_output_loss: 0.7995 - val_juzno_output_accuracy: 0.1000 - val_juzno_output_loss: 4.6519 - val_loss: 9.5010 - val_surahno_output_accuracy: 0.2000 - val_surahno_output_loss: 4.8491\n",
      "Epoch 14/22\n",
      "\u001b[1m384/384\u001b[0m \u001b[32m━━━━━━━━━━━━━━━━━━━━\u001b[0m\u001b[37m\u001b[0m \u001b[1m135s\u001b[0m 351ms/step - juzno_output_accuracy: 0.9274 - juzno_output_loss: 0.2836 - loss: 0.9493 - surahno_output_accuracy: 0.8511 - surahno_output_loss: 0.6657 - val_juzno_output_accuracy: 0.2000 - val_juzno_output_loss: 4.7326 - val_loss: 9.6598 - val_surahno_output_accuracy: 0.2000 - val_surahno_output_loss: 4.9272\n",
      "Epoch 15/22\n",
      "\u001b[1m384/384\u001b[0m \u001b[32m━━━━━━━━━━━━━━━━━━━━\u001b[0m\u001b[37m\u001b[0m \u001b[1m135s\u001b[0m 351ms/step - juzno_output_accuracy: 0.9428 - juzno_output_loss: 0.2261 - loss: 0.7622 - surahno_output_accuracy: 0.8818 - surahno_output_loss: 0.5361 - val_juzno_output_accuracy: 0.1000 - val_juzno_output_loss: 5.1235 - val_loss: 9.9990 - val_surahno_output_accuracy: 0.3000 - val_surahno_output_loss: 4.8755\n",
      "Epoch 16/22\n",
      "\u001b[1m384/384\u001b[0m \u001b[32m━━━━━━━━━━━━━━━━━━━━\u001b[0m\u001b[37m\u001b[0m \u001b[1m133s\u001b[0m 345ms/step - juzno_output_accuracy: 0.9499 - juzno_output_loss: 0.1895 - loss: 0.6496 - surahno_output_accuracy: 0.8977 - surahno_output_loss: 0.4601 - val_juzno_output_accuracy: 0.2000 - val_juzno_output_loss: 5.7909 - val_loss: 11.4629 - val_surahno_output_accuracy: 0.2000 - val_surahno_output_loss: 5.6720\n",
      "Epoch 17/22\n",
      "\u001b[1m384/384\u001b[0m \u001b[32m━━━━━━━━━━━━━━━━━━━━\u001b[0m\u001b[37m\u001b[0m \u001b[1m135s\u001b[0m 352ms/step - juzno_output_accuracy: 0.9505 - juzno_output_loss: 0.1821 - loss: 0.6060 - surahno_output_accuracy: 0.9066 - surahno_output_loss: 0.4239 - val_juzno_output_accuracy: 0.2000 - val_juzno_output_loss: 5.6306 - val_loss: 11.1280 - val_surahno_output_accuracy: 0.2000 - val_surahno_output_loss: 5.4974\n",
      "Epoch 18/22\n",
      "\u001b[1m384/384\u001b[0m \u001b[32m━━━━━━━━━━━━━━━━━━━━\u001b[0m\u001b[37m\u001b[0m \u001b[1m133s\u001b[0m 346ms/step - juzno_output_accuracy: 0.9621 - juzno_output_loss: 0.1442 - loss: 0.4897 - surahno_output_accuracy: 0.9261 - surahno_output_loss: 0.3455 - val_juzno_output_accuracy: 0.2000 - val_juzno_output_loss: 5.5457 - val_loss: 11.3110 - val_surahno_output_accuracy: 0.2000 - val_surahno_output_loss: 5.7653\n",
      "Epoch 19/22\n",
      "\u001b[1m384/384\u001b[0m \u001b[32m━━━━━━━━━━━━━━━━━━━━\u001b[0m\u001b[37m\u001b[0m \u001b[1m135s\u001b[0m 350ms/step - juzno_output_accuracy: 0.9675 - juzno_output_loss: 0.1288 - loss: 0.4075 - surahno_output_accuracy: 0.9391 - surahno_output_loss: 0.2787 - val_juzno_output_accuracy: 0.3000 - val_juzno_output_loss: 5.2027 - val_loss: 10.5386 - val_surahno_output_accuracy: 0.4000 - val_surahno_output_loss: 5.3359\n",
      "Epoch 20/22\n",
      "\u001b[1m384/384\u001b[0m \u001b[32m━━━━━━━━━━━━━━━━━━━━\u001b[0m\u001b[37m\u001b[0m \u001b[1m132s\u001b[0m 344ms/step - juzno_output_accuracy: 0.9653 - juzno_output_loss: 0.1158 - loss: 0.3567 - surahno_output_accuracy: 0.9485 - surahno_output_loss: 0.2409 - val_juzno_output_accuracy: 0.2000 - val_juzno_output_loss: 5.8401 - val_loss: 11.6044 - val_surahno_output_accuracy: 0.4000 - val_surahno_output_loss: 5.7643\n",
      "Epoch 21/22\n",
      "\u001b[1m384/384\u001b[0m \u001b[32m━━━━━━━━━━━━━━━━━━━━\u001b[0m\u001b[37m\u001b[0m \u001b[1m132s\u001b[0m 344ms/step - juzno_output_accuracy: 0.9620 - juzno_output_loss: 0.1190 - loss: 0.3574 - surahno_output_accuracy: 0.9478 - surahno_output_loss: 0.2384 - val_juzno_output_accuracy: 0.2000 - val_juzno_output_loss: 6.1105 - val_loss: 12.2199 - val_surahno_output_accuracy: 0.3000 - val_surahno_output_loss: 6.1093\n",
      "Epoch 22/22\n",
      "\u001b[1m384/384\u001b[0m \u001b[32m━━━━━━━━━━━━━━━━━━━━\u001b[0m\u001b[37m\u001b[0m \u001b[1m132s\u001b[0m 343ms/step - juzno_output_accuracy: 0.9725 - juzno_output_loss: 0.0900 - loss: 0.2772 - surahno_output_accuracy: 0.9561 - surahno_output_loss: 0.1873 - val_juzno_output_accuracy: 0.2000 - val_juzno_output_loss: 6.3434 - val_loss: 12.6627 - val_surahno_output_accuracy: 0.3000 - val_surahno_output_loss: 6.3192\n"
     ]
    }
   ],
   "source": [
    "history = model.fit(\n",
    "    X_train, \n",
    "    {'juzno_output': y_train_juzno, 'surahno_output': y_train_surahno},\n",
    "    validation_data=(X_test, {'juzno_output': y_test_juzno, 'surahno_output': y_test_surahno}),\n",
    "    epochs=25, \n",
    "    batch_size=16\n",
    ")"
   ]
  },
  {
   "cell_type": "code",
   "execution_count": 9,
   "metadata": {},
   "outputs": [
    {
     "data": {
      "text/plain": [
       "['reciter_model2']"
      ]
     },
     "execution_count": 9,
     "metadata": {},
     "output_type": "execute_result"
    }
   ],
   "source": [
    "import joblib \n",
    "joblib.dump(model,\"reciter_model2\")"
   ]
  },
  {
   "cell_type": "code",
   "execution_count": 10,
   "metadata": {},
   "outputs": [
    {
     "name": "stdout",
     "output_type": "stream",
     "text": [
      "\u001b[1m39/39\u001b[0m \u001b[32m━━━━━━━━━━━━━━━━━━━━\u001b[0m\u001b[37m\u001b[0m \u001b[1m6s\u001b[0m 95ms/step - juzno_output_accuracy: 0.0258 - juzno_output_loss: 3.4025 - loss: 8.1390 - surahno_output_accuracy: 0.0024 - surahno_output_loss: 4.7365\n",
      "Validation Total Loss: 8.138574600219727\n",
      "Validation Juzno Loss: 3.4025285243988037\n",
      "Validation Surahno Loss: 4.7360663414001465\n",
      "Validation Juzno Accuracy: 2.60%\n",
      "Validation Surahno Accuracy: 0.41%\n"
     ]
    }
   ],
   "source": [
    "# Evaluate the model on validation data\n",
    "val_loss, val_juzno_loss, val_surahno_loss, val_juzno_accuracy, val_surahno_accuracy = model.evaluate(\n",
    "    X_test, \n",
    "    {'juzno_output': y_test_juzno, 'surahno_output': y_test_surahno},\n",
    "    verbose=1\n",
    ")\n",
    "\n",
    "# Print validation metrics\n",
    "print(f\"Validation Total Loss: {val_loss}\")\n",
    "print(f\"Validation Juzno Loss: {val_juzno_loss}\")\n",
    "print(f\"Validation Surahno Loss: {val_surahno_loss}\")\n",
    "print(f\"Validation Juzno Accuracy: {val_juzno_accuracy * 100:.2f}%\")\n",
    "print(f\"Validation Surahno Accuracy: {val_surahno_accuracy * 100:.2f}%\")"
   ]
  },
  {
   "cell_type": "code",
   "execution_count": 11,
   "metadata": {},
   "outputs": [
    {
     "name": "stdout",
     "output_type": "stream",
     "text": [
      "\u001b[1m39/39\u001b[0m \u001b[32m━━━━━━━━━━━━━━━━━━━━\u001b[0m\u001b[37m\u001b[0m \u001b[1m4s\u001b[0m 99ms/step\n",
      "Predicted Juzno: 11, Predicted Surahno: 44\n",
      "Predicted Juzno: 5, Predicted Surahno: 59\n",
      "Predicted Juzno: 16, Predicted Surahno: 31\n",
      "Predicted Juzno: 16, Predicted Surahno: 48\n",
      "Predicted Juzno: 16, Predicted Surahno: 16\n",
      "Predicted Juzno: 5, Predicted Surahno: 106\n",
      "Predicted Juzno: 11, Predicted Surahno: 96\n",
      "Predicted Juzno: 20, Predicted Surahno: 44\n",
      "Predicted Juzno: 11, Predicted Surahno: 31\n",
      "Predicted Juzno: 16, Predicted Surahno: 85\n"
     ]
    }
   ],
   "source": [
    "# Make predictions\n",
    "predictions = model.predict(X_test)\n",
    "\n",
    "# Decode predictions back to original labels\n",
    "predicted_juzno = label_encoder_juzno.inverse_transform(np.argmax(predictions[0], axis=1))\n",
    "predicted_surahno = label_encoder_surahno.inverse_transform(np.argmax(predictions[1], axis=1))\n",
    "\n",
    "# Show some predictions\n",
    "for i in range(10):\n",
    "    print(f\"Predicted Juzno: {predicted_juzno[i]}, Predicted Surahno: {predicted_surahno[i]}\")"
   ]
  },
  {
   "cell_type": "code",
   "execution_count": 12,
   "metadata": {},
   "outputs": [],
   "source": [
    "import joblib\n",
    "\n",
    "model=joblib.load(\"model/quran_model\")"
   ]
  },
  {
   "cell_type": "code",
   "execution_count": 14,
   "metadata": {},
   "outputs": [
    {
     "name": "stdout",
     "output_type": "stream",
     "text": [
      "\u001b[1m1/1\u001b[0m \u001b[32m━━━━━━━━━━━━━━━━━━━━\u001b[0m\u001b[37m\u001b[0m \u001b[1m1s\u001b[0m 609ms/step\n",
      "Predicted Juz No: 30\n",
      "Predicted Surah No: 105\n"
     ]
    }
   ],
   "source": [
    "# Input the text to predict\n",
    "input_text = \"أَلَمْ يَجْعَلْ كَيْدَهُمْ فِي تَضْلِيلٍ\"     # Replace with your input text\n",
    "\n",
    "# Tokenize and pad the text\n",
    "sequence = tokenizer.texts_to_sequences([input_text])\n",
    "padded_sequence = tf.keras.preprocessing.sequence.pad_sequences(sequence, maxlen=X.shape[1])\n",
    "\n",
    "# Predict using the trained model\n",
    "predictions = model.predict(padded_sequence)\n",
    "\n",
    "# Extract and decode predictions for Juz No and Surah No\n",
    "juzno_prediction = np.argmax(predictions[0], axis=1)\n",
    "surahno_prediction = np.argmax(predictions[1], axis=1)\n",
    "\n",
    "# Decode the predicted classes back to labels\n",
    "predicted_juzno = label_encoder_juzno.inverse_transform(juzno_prediction)\n",
    "predicted_surahno = label_encoder_surahno.inverse_transform(surahno_prediction)\n",
    "\n",
    "# Print the results\n",
    "print(f\"Predicted Juz No: {predicted_juzno[0]}\")\n",
    "print(f\"Predicted Surah No: {predicted_surahno[0]}\")"
   ]
  }
 ],
 "metadata": {
  "kernelspec": {
   "display_name": "Python 3",
   "language": "python",
   "name": "python3"
  },
  "language_info": {
   "codemirror_mode": {
    "name": "ipython",
    "version": 3
   },
   "file_extension": ".py",
   "mimetype": "text/x-python",
   "name": "python",
   "nbconvert_exporter": "python",
   "pygments_lexer": "ipython3",
   "version": "3.9.11"
  }
 },
 "nbformat": 4,
 "nbformat_minor": 2
}
